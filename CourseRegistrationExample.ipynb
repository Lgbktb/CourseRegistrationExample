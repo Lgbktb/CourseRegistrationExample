{
 "cells": [
  {
   "cell_type": "markdown",
   "metadata": {},
   "source": [
    "# Course Registration\n",
    "\n",
    "**Summary:** You will be creating a registration system in which a student can choose from a menu of classes.\n",
    "They can add as many classes as they want. In the end you will display a summary of the selected courses and\n",
    "the total number of credit hours.\n",
    "\n",
    "Next semester a student can choose from CIS170 (Java), CIS131 (WebDev II), CIS250 (Database), MTH110 (College\n",
    "Algebra) or ACC210 (Accounting).\n",
    "\n",
    "All classes are 3 credit hours with the exception of Math which is 4.\n",
    "\n",
    "Fill an array or arrays with the course description and the course’s credit hours\n",
    "You are creating the registration for the students.\n",
    "\n",
    "After getting the student’s name, loop through the array of classes to present a menu list of what class they would like\n",
    "to add to their registration.\n",
    "\n",
    "Once the student makes a selection, add their selection to a registration array which holds their course choices.\n",
    "\n",
    "Continue to ask them which course to add until they indicate they would not like to add any more courses.\n",
    "\n",
    "For simplicity sake of this exam, you do not have to account for the student mistakenly entering in the same course\n",
    "twice.\n",
    "\n",
    "Once they have indicated they are finished, display back each course they have added. Be sure to include the total credit\n",
    "hours they have registered for as part of the registration summary"
   ]
  },
  {
   "cell_type": "markdown",
   "metadata": {},
   "source": [
    "Your code should demonstrate the use of:\n",
    "\n",
    "• Arrays (either parallel or multi-dimensional)\n",
    "\n",
    "• Modules – keep it simple, at a minimum a main() and a\n",
    "registration() module should be present\n",
    "\n",
    "• Looping structure (while and/or for)\n",
    "\n",
    "• Decision structure (if)\n",
    "\n",
    "• Commenting (minimum of your name)"
   ]
  },
  {
   "cell_type": "code",
   "execution_count": null,
   "metadata": {},
   "outputs": [],
   "source": [
    "class Course:\n",
    "    \n",
    "    def __init__(self, number, name, hours, id):\n",
    "        self.id = id\n",
    "        self.number = number\n",
    "        self.name = name\n",
    "        self.hours = hours"
   ]
  },
  {
   "cell_type": "code",
   "execution_count": null,
   "metadata": {},
   "outputs": [],
   "source": [
    "class Registrar:\n",
    "    \n",
    "    def __init__(self):\n",
    "        self.courses = []\n",
    "        self.courses.append(Course(\"CIS170\", \"Java\", 3, 1))\n",
    "        self.courses.append(Course(\"CIS131\", \"WebDev II\", 3, 2))\n",
    "        self.courses.append(Course(\"CIS250\", \"Database\", 3, 3))\n",
    "        self.courses.append(Course(\"MTH110\", \"College Algebra\", 4, 4))\n",
    "        self.courses.append(Course(\"ACC210\", \"Accounting\", 3, 5))\n",
    "    def getCourses(self):\n",
    "        return self.courses\n",
    "\n",
    "    def findCourse(self, i):\n",
    "        for _ in self.courses:\n",
    "            if _.id == i:\n",
    "                return _\n",
    "        #print(\"No Course \"+i+\" Found\")\n",
    "        return 0\n",
    "    \n",
    "    def printCourses(self):\n",
    "        for _ in self.courses:\n",
    "            print(str(_.id) + \" - \" + str(_.number) + \" - \" + str(_.name))\n",
    "            \n",
    "            "
   ]
  },
  {
   "cell_type": "code",
   "execution_count": null,
   "metadata": {},
   "outputs": [],
   "source": [
    "def main():\n",
    "    \n",
    "    print(\"Welcome to Registration\")\n",
    "    name = str(input(\"What is your name? \"))\n",
    "    r = Registrar()\n",
    "    courseSchedule = []\n",
    "    continuing = True\n",
    "    while(continuing):\n",
    "        #print(str(r.courses))\n",
    "        r.printCourses()\n",
    "        #AskforAddedCourses\n",
    "        innerloop = True\n",
    "        while(innerloop):\n",
    "            x = int(input(\"Which course would you like to add \"))\n",
    "            if bool(r.findCourse(x)):\n",
    "                courseSchedule.append(r.findCourse(x))\n",
    "                innerloop = False\n",
    "            else:\n",
    "                print(\"Invalid Course number\")\n",
    "        innerloop = True\n",
    "        while(innerloop):\n",
    "            x = str(input(\"Want to add any more classes?(y/n)\"))\n",
    "            if x.upper().startswith('Y'):\n",
    "                innerloop = False\n",
    "            elif x.upper().startswith('N'):\n",
    "                innerloop = False\n",
    "                continuing = False\n",
    "            else:\n",
    "                print(\"Error: Please enter Y or N\")\n",
    "            \n",
    "    #Handling Course credits\n",
    "    totalHours = 0\n",
    "    for _ in courseSchedule:\n",
    "        print(str(_.number)+\" - \"+ str(_.hours))\n",
    "        totalHours += _.hours\n",
    "    print(\"Total Credits: \" + str(totalHours))"
   ]
  },
  {
   "cell_type": "code",
   "execution_count": null,
   "metadata": {},
   "outputs": [],
   "source": [
    "main()"
   ]
  }
 ],
 "metadata": {
  "celltoolbar": "Edit Metadata",
  "kernelspec": {
   "display_name": "Python 3",
   "language": "python",
   "name": "python3"
  },
  "language_info": {
   "codemirror_mode": {
    "name": "ipython",
    "version": 3
   },
   "file_extension": ".py",
   "mimetype": "text/x-python",
   "name": "python",
   "nbconvert_exporter": "python",
   "pygments_lexer": "ipython3",
   "version": "3.6.7"
  }
 },
 "nbformat": 4,
 "nbformat_minor": 2
}
